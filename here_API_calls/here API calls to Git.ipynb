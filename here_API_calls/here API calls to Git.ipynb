{
 "cells": [
  {
   "cell_type": "markdown",
   "metadata": {},
   "source": [
    "# Accessing here technologies\n",
    "https://developer.here.com/"
   ]
  },
  {
   "cell_type": "markdown",
   "metadata": {},
   "source": [
    "## Get Lat/Lon"
   ]
  },
  {
   "cell_type": "code",
   "execution_count": 711,
   "metadata": {
    "collapsed": true
   },
   "outputs": [],
   "source": [
    "import requests\n",
    "import bs4\n",
    "import html\n",
    "\n",
    "def GetLatLon(location):\n",
    "    app_id = ''\n",
    "    app_code = ''\n",
    "    location = location.replace(\" \", \"+\")\n",
    "    URL = \"https://geocoder.cit.api.here.com/6.2/geocode.xml?app_id=\"+app_id+\"&app_code=\"+app_code+\"&searchtext=\"+location\n",
    "    r = requests.get(url=URL)\n",
    "    try:\n",
    "        soup = bs4.BeautifulSoup(r.text, 'lxml')\n",
    "        soup = soup.body.response.navigationposition.contents\n",
    "        lat = soup[0].contents[0]\n",
    "        lon = soup[1].contents[0]\n",
    "        return lat, lon\n",
    "    except:\n",
    "        return None"
   ]
  },
  {
   "cell_type": "code",
   "execution_count": 712,
   "metadata": {},
   "outputs": [
    {
     "data": {
      "text/plain": [
       "('41.88449', '-87.6387699')"
      ]
     },
     "execution_count": 712,
     "metadata": {},
     "output_type": "execute_result"
    }
   ],
   "source": [
    "GetLatLon('425 W Randolph St, Chicago, IL 60606, United States')"
   ]
  },
  {
   "cell_type": "markdown",
   "metadata": {},
   "source": [
    "## Places API Calls\n",
    "    1) hospital-health-care-facility\n",
    "    2) Snacks-fast-food\n",
    "    3) toilet-rest-area\n",
    "    4) Food Banks (https://data.seattle.gov/Community/Food-Banks/ryz5-i54h)\n",
    "    5) Meals Programs in Seattle (https://data.seattle.gov/Community/Meals-Programs-in-Seattle/hmzu-x5ed/data)\n",
    "    6) Libraries (https://data.seattle.gov/Community/Libraries/usk4-ujha)\n",
    "    7) Family Support Centers (https://data.seattle.gov/Community/Family-Support-Center/cy6k-d7r5)\n",
    "    8) Shelters\n",
    "    9) Free Wifi hotspots (Excel table) + data base for libraries\n",
    "    10) Churches\n",
    "    11) Education (Excel table) including english classes, computer literacy,etc"
   ]
  },
  {
   "cell_type": "code",
   "execution_count": 935,
   "metadata": {
    "collapsed": true
   },
   "outputs": [],
   "source": [
    "import json \n",
    "\n",
    "def GetPlace(lat, lon, place):\n",
    "    place_dict = {}\n",
    "    place = place.replace(\" \", \"+\")\n",
    "    app_id = ''\n",
    "    app_code = ''\n",
    "    URL = \"https://places.demo.api.here.com/places/v1/discover/search?at=\"+lat+\"%2C\"+lon+\"&q=\"+place+\"&tf=html&app_id=\"+app_id+\"&app_code=\"+app_code\n",
    "    r = requests.get(url=URL)\n",
    "    soup = json.loads(bs4.BeautifulSoup(r.text, 'lxml').html.body.get_text())\n",
    "    for i in range(len(soup['results']['items'])):\n",
    "        destination = soup['results']['items'][i]['position'] #vicinity\n",
    "        distance, time = GetRoute(lat, lon, str(destination[0]), str(destination[1]))\n",
    "        place_dict[soup['results']['items'][i]['title']] = (distance, time, destination)\n",
    "    if len(place_dict) > 5:\n",
    "        min_time = sorted(place_dict, key=place_dict.get, reverse=False)[:5]\n",
    "        place_dict = {x: place_dict[x] for x in min_time}\n",
    "    else:\n",
    "        place_dict = place_dict\n",
    "    print(place_dict)"
   ]
  },
  {
   "cell_type": "code",
   "execution_count": 936,
   "metadata": {},
   "outputs": [
    {
     "name": "stdout",
     "output_type": "stream",
     "text": [
      "{'Mental Health America Of Il': (0.8, 21.3, [41.88606, -87.625535]), 'Mental Health Association Of Greater Chicago': (0.7, 19.4, [41.879944, -87.630645]), 'Illinois Institute for Integrity Mental Health': (1.0, 26.1, [41.889432, -87.624945])}\n"
     ]
    }
   ],
   "source": [
    "lat, lon = GetLatLon('425 W Randolph St, Chicago, IL 60606, United States')\n",
    "GetPlace(lat, lon, 'mental health')"
   ]
  },
  {
   "cell_type": "markdown",
   "metadata": {},
   "source": [
    "## Routing"
   ]
  },
  {
   "cell_type": "code",
   "execution_count": 893,
   "metadata": {
    "collapsed": true
   },
   "outputs": [],
   "source": [
    "def GetRoute(lat,lon,lat1,lon1):\n",
    "    app_id = ''\n",
    "    app_code = ''\n",
    "    mode='fastest%3Bpedestrian'\n",
    "    URL = \"https://route.cit.api.here.com/routing/7.2/calculateroute.xml?app_id=\"+app_id+\"&app_code=\"+app_code+\"&waypoint0=\"+lat+\"%2C\"+lon+\"&waypoint1=\"+lat1+\"%2C\"+lon1+\"&mode=\"+mode\n",
    "    r = requests.get(url=URL)\n",
    "    soup = bs4.BeautifulSoup(r.text, 'lxml')\n",
    "    try:\n",
    "        time = round(int(soup.body.response.traveltime.contents[0])/60, 1)\n",
    "        distance = round(int(soup.body.response.distance.contents[0])/1609, 1)\n",
    "        return distance, time\n",
    "    except:\n",
    "        return 99,99"
   ]
  },
  {
   "cell_type": "code",
   "execution_count": 894,
   "metadata": {
    "collapsed": true
   },
   "outputs": [],
   "source": [
    "def GetMapRoute(lat,lon,lat1,lon1):\n",
    "    app_id = ''\n",
    "    app_code = ''\n",
    "    lc='1652B4'\n",
    "    lw='6'\n",
    "    t='0'\n",
    "    ppi='320'\n",
    "    w='400'\n",
    "    h='600'\n",
    "    URL = \"https://image.maps.cit.api.here.com/mia/1.6/routing?app_id=\"+app_id+\"&app_code=\"+app_code+\"&waypoint0=\"+lat+\"%2C\"+lon+\"&waypoint1=\"+lat1+\"%2C\"+lon1+\"&lc=\"+lc+\"&lw=\"+lw+\"&t=\"+t+\"&ppi=\"+ppi+\"&w=\"+w+\"&h=\"+h\n",
    "    r = requests.get(url=URL)\n",
    "    soup = bs4.BeautifulSoup(r.text, 'xml')\n",
    "    print(URL)"
   ]
  },
  {
   "cell_type": "code",
   "execution_count": 895,
   "metadata": {},
   "outputs": [
    {
     "data": {
      "text/plain": [
       "(1.8, 48.3)"
      ]
     },
     "execution_count": 895,
     "metadata": {},
     "output_type": "execute_result"
    }
   ],
   "source": [
    "lat1, lon1 = GetLatLon('4219 42nd Ave NE, Seattle, WA 98105')\n",
    "lat2, lon2 = GetLatLon('4240 Roosevelt Seattle')\n",
    "\n",
    "GetRoute(lat1, lon1, lat2, lon2)"
   ]
  },
  {
   "cell_type": "code",
   "execution_count": 754,
   "metadata": {},
   "outputs": [
    {
     "name": "stdout",
     "output_type": "stream",
     "text": [
      "https://image.maps.cit.api.here.com/mia/1.6/routing?app_id=IYPjp4rMqRSliStOW54O&app_code=TMSIdq5F93WcI7oofW0nhw&waypoint0=47.6610686%2C-122.28275&waypoint1=47.65922%2C-122.31775&lc=1652B4&lw=6&t=0&ppi=320&w=400&h=600\n"
     ]
    }
   ],
   "source": [
    "GetMapRoute(lat1, lon1, lat2, lon2)"
   ]
  },
  {
   "cell_type": "markdown",
   "metadata": {},
   "source": [
    "## Weather"
   ]
  },
  {
   "cell_type": "code",
   "execution_count": 681,
   "metadata": {
    "collapsed": true
   },
   "outputs": [],
   "source": [
    "import json\n",
    "\n",
    "def GetWeather(weather):\n",
    "    CLIENT_ID = ''\n",
    "    CLIENT_SECRET=''\n",
    "    \n",
    "    URL = 'http://api.aerisapi.com/observations/seattle,wa?'+'client_id='+CLIENT_ID+'&client_secret='+CLIENT_SECRET\n",
    "    r = requests.get(url=URL)    \n",
    "    soup = json.loads(bs4.BeautifulSoup(r.text, 'lxml').html.body.get_text())['response']\n",
    "    general = soup['ob']['weather'].lower()\n",
    "    humid = soup['ob']['humidity']\n",
    "    temp = soup['ob']['tempF']\n",
    "    precip = soup['ob']['precipIN']\n",
    "    wind = soup['ob']['windMPH']\n",
    "    snwd = soup['ob']['snowDepthIN']\n",
    "    print(general, humid, temp, precip, wind, snwd)"
   ]
  },
  {
   "cell_type": "code",
   "execution_count": 682,
   "metadata": {},
   "outputs": [
    {
     "name": "stdout",
     "output_type": "stream",
     "text": [
      "mostly clear 72 59 0 3 None\n"
     ]
    }
   ],
   "source": [
    "GetWeather('string')"
   ]
  },
  {
   "cell_type": "markdown",
   "metadata": {},
   "source": [
    "## Get Wifi"
   ]
  },
  {
   "cell_type": "code",
   "execution_count": 926,
   "metadata": {
    "collapsed": true
   },
   "outputs": [],
   "source": [
    "import pandas as pd\n",
    "wifi = pd.read_csv('./freeWifi.csv', encoding='ISO-8859-1', header=None)\n",
    "\n",
    "name = list(wifi[0])\n",
    "address = list(wifi[1])\n",
    "wifi = []\n",
    "for i in range(len(ls)):\n",
    "    a = GetLatLon(ls[i])\n",
    "    wifi.append((name[i], address[i], a))"
   ]
  },
  {
   "cell_type": "code",
   "execution_count": 937,
   "metadata": {
    "collapsed": true
   },
   "outputs": [],
   "source": [
    "def GetWifi():\n",
    "    wifi = [('Starbucks', '1912 Pike Pl', ('49.67807', '-124.99319')),\n",
    " ('Starbucks Coffee Works', '107 Pike St', ('45.3637143', '-75.6266729')),\n",
    " ('Barnes & Noble', '600 Pine St, #107', ('49.15622', '-123.9398822')),\n",
    " ('The Roosevelt Hotel', '1531 7th Ave', ('49.2060616', '-122.9373887')),\n",
    " ('Grand Hyatt Seattle', '721 Pine St', ('48.43624', '-123.39273')),\n",
    " ('Six Arms', '300 E Pike St', ('45.3625104', '-75.6257203')),\n",
    " ('Bauhaus Books & Coffee', '301 E Pine St', None),\n",
    " ('Starbucks', '1125 4th Ave', ('49.3761636', '-121.4357941')),\n",
    " ('Seattle Ferry Terminal ', '801 Alaskan Way', None),\n",
    " ('Seattle Public Library', '1000 4th Ave', ('49.2065678', '-122.92326')),\n",
    " ('Renaissance Seattle Hotel',\n",
    "  '515 Madison St',\n",
    "  ('49.8912551', '-97.2033325')),\n",
    " ('Caffe Vita', '1005 E Pike St', ('38.9861', '-84.82811')),\n",
    " ('Caffe Umbria', '320 Occidental Ave. S', ('22.1474514', '-101.0415156')),\n",
    " ('Café Presse', '1117 12th Ave', ('50.5096884', '-104.61769')),\n",
    " ('Skillet Diner', '1400 E Union St', ('43.95679', '2.88693')),\n",
    " ('Zoka Coffee', '129 Central Way', None),\n",
    " ('Apple Store', '213 Bellevue Sq', ('50.56245', '5.62475')),\n",
    " ('Hyatt Regency Bellevue', '900 Bellevue Way NE', ('41.13647', '-95.89249')),\n",
    " ('Café Cesura', '1015 108th Ave NE', ('50.3985924', '-105.5089704')),\n",
    " ('Pro Sports Club', '4455 148th Ave NE', None),\n",
    " ('Panera Bread', '4004 Factoria Blvd SE', None),\n",
    " ('Seattle- Tacoma International Airport',\n",
    "  '17801 International Blvd',\n",
    "  ('-12.15885', '-76.97894')),\n",
    " ('Hilton Seattle Aitport & Conference Center',\n",
    "  '17620 Ibternational Blvd',\n",
    "  None),\n",
    " ('United Club', 'Concourse A, near Gate 9', None),\n",
    " (\"Tully's Coffee \", '3080 148th Ave SE, #113', None),\n",
    " ('Starbucks', '3181 156th Ave', None),\n",
    " ('DoubleTree by Hilton Seattle Airport',\n",
    "  '18740 International Blvd',\n",
    "  ('40.75538', '-75.26844')),\n",
    " ('Embassy Suits', '3225 158th Ave SE', None),\n",
    " ('Hampton Inn', '19445 International Blvd', None),\n",
    " ('Nordstorm', '100 Southcenter Shopping', None),\n",
    " ('Fairfield Inn Seattle Sea-Tac Airport', '19631 International Blvd', None),\n",
    " ('Westfield Southcenter',\n",
    "  '2800 Southcenter Mall',\n",
    "  ('39.96928', '-85.3302412')),\n",
    " ('Panera Bread', '921 N 10th St, Ste E', ('49.51964', '-115.75179')),\n",
    " (\"Vince's Coffee Shop\",\n",
    "  '401 Olympia Ave NE, #102',\n",
    "  ('47.05997', '-122.87741')),\n",
    " ('Starbucks', '14022 SE Petrovitsky Rd', None)]\n",
    "    info = wifi[:3]\n",
    "    return ('The following resources available are', info)"
   ]
  },
  {
   "cell_type": "code",
   "execution_count": 938,
   "metadata": {},
   "outputs": [
    {
     "data": {
      "text/plain": [
       "('The following resources available are',\n",
       " [('Starbucks', '1912 Pike Pl', ('49.67807', '-124.99319')),\n",
       "  ('Starbucks Coffee Works', '107 Pike St', ('45.3637143', '-75.6266729')),\n",
       "  ('Barnes & Noble', '600 Pine St, #107', ('49.15622', '-123.9398822'))])"
      ]
     },
     "execution_count": 938,
     "metadata": {},
     "output_type": "execute_result"
    }
   ],
   "source": [
    "GetWifi()"
   ]
  },
  {
   "cell_type": "markdown",
   "metadata": {},
   "source": [
    "## Get Education"
   ]
  },
  {
   "cell_type": "code",
   "execution_count": 921,
   "metadata": {
    "collapsed": true
   },
   "outputs": [],
   "source": [
    "educ = pd.read_csv('./Education.csv', header=None)\n",
    "educ = educ.values.tolist()"
   ]
  },
  {
   "cell_type": "code",
   "execution_count": 919,
   "metadata": {
    "collapsed": true
   },
   "outputs": [],
   "source": [
    "def GetEducation():\n",
    "    educ = [['King County Library System',\n",
    "  'Computer Basics Training',\n",
    "  '960 Newport Way NW, Issaquah, WA, 98027'],\n",
    " ['Seattle Public Library',\n",
    "  'Computer Classes',\n",
    "  '8635 Fremont Ave N, Seattle, WA, 98103'],\n",
    " ['Boys&Girls Clubs of King County',\n",
    "  'After-school Program',\n",
    "  '201 19th Ave, Seattle, WA, 98122'],\n",
    " ['Coyote Central',\n",
    "  'Electronics Classes',\n",
    "  '2300 E Cherry St, Seattle, WA, 98122'],\n",
    " ['FAMILYWORKS',\n",
    "  'Pre-Employment Services',\n",
    "  '1501 N 45th St, Seattle, WA, 98103'],\n",
    " [\"GAY CITY: Seattle's LGBTQ Center\",\n",
    "  'Queercore',\n",
    "  '517 E Pike St, Seattle, WA, 98122'],\n",
    " ['Goodwill',\n",
    "  'Basic Skills& GED Preparation',\n",
    "  '700 Dearborn Pl S, Seattle, WA, 98144'],\n",
    " ['Greenwood Senior Center',\n",
    "  'Computer Technology Center',\n",
    "  '525 N 85th St, Seattle, WA, 98103'],\n",
    " ['Helping Link',\n",
    "  'ELS Citizenship Computer Literacy Program',\n",
    "  '1032 S Jackson St, Suite C, Seattle, WA, 98104'],\n",
    " [\"Jubulee Women's Center\",\n",
    "  'Computer Basics Training',\n",
    "  '620 18th Ave E, Seattle, WA, 98112'],\n",
    " ['Lambert House', 'Computer Lab', '1818 15th Ave, Seattle, WA, 98122'],\n",
    " ['Museum of History & Industry',\n",
    "  'Maker Day',\n",
    "  '860 Terry Ave N, Seattle, WA, 98109'],\n",
    " ['Phinney Neighborghood Association',\n",
    "  'Arts, Scheduling and Community Education Programs',\n",
    "  '6532 Phinney Ave N, Seattle, WA, 98103'],\n",
    " [\"Seattle Children's Research Institute\",\n",
    "  'STEM High School Internship Program',\n",
    "  '1900 9th Ave, Seattle, WA, 98101'],\n",
    " ['Seattle Indian Center',\n",
    "  'Employment Services',\n",
    "  '1265 S Main St, Suite 105, Seattle, WA, 98144'],\n",
    " ['Seattle Parks and Recreation - Community Centers',\n",
    "  'Recreational Technology',\n",
    "  '2323 E Cherry St, Seattle, WA, 98122'],\n",
    " ['United Indians of all Tribes Foundation',\n",
    "  'Workforce Investment, Employment, Services',\n",
    "  '5011 Bernie Whitebear Way, Daybreak Star Center, Seattle, WA, 98199'],\n",
    " ['Seattle Public Library', 'ESL Classes', '1000 4th Ave, Seattle, WA, 98104'],\n",
    " ['Casa Latina', 'ESL Classes', '317 17th Ave S, Seattle, WA, 98144'],\n",
    " ['Center for Multicultural Health',\n",
    "  'Refugee and Immigrant Resources',\n",
    "  '1120 E Terrace St, Suite 200, Seattle, WA, 98122'],\n",
    " [\"Children's Home Society of Washington\",\n",
    "  'Classes and Support Group',\n",
    "  '2611 NE 125th St, Suite 145, Seattle, WA, 98125'],\n",
    " ['Chinese Information and Service Center',\n",
    "  'Immigrant Transition Programs',\n",
    "  '611 S Lane St, Seattle, WA, 98104'],\n",
    " ['Literacy Source',\n",
    "  'Educational Services',\n",
    "  '3200 NE 125th St, Seattle, WA, 98125'],\n",
    " ['North Seattle College',\n",
    "  'Pre-College Programs',\n",
    "  '9600 College Way N, Seattle, WA, 98103'],\n",
    " ['Seattle Central College',\n",
    "  'Division of Basic Studies/ABE/ESL',\n",
    "  '1701 Broadway, Seattle, WA, 98122'],\n",
    " ['Farestart', 'Youth Barista Program', '1818 Yale Ave, Seattle, WA, 98101'],\n",
    " ['Trac Associates',\n",
    "  'Emplyment Services',\n",
    "  '215 6th Ave N, Suite 100, Seattle, WA, 98109'],\n",
    " ['Worksource - King County',\n",
    "  'Veterans Program',\n",
    "  '9600 College Way N, The Opportunity Center, Seattle, WA, 98103'],\n",
    " ['Church of Jesus Christ',\n",
    "  'Training',\n",
    "  '17935 Aurora Ave N, Shoreline, WA, 98133'],\n",
    " ['Sunrise Services',\n",
    "  'Employment - Assessment/Management',\n",
    "  '17962 Midvale N., #232, Shoreline, WA, 98133'],\n",
    " ['Work Opportunities',\n",
    "  'Rehabilitation',\n",
    "  '22316 70th Ave W, Mountlake Terrace, WA, 98043'],\n",
    " ['Bremerton Housing Authority',\n",
    "  'Barista Training Program',\n",
    "  '4650 Bay Vista Blvd, Bremerton, WA, 98312']]\n",
    "    info = educ[:3]\n",
    "    return ('The following resources available are', info)"
   ]
  },
  {
   "cell_type": "code",
   "execution_count": 920,
   "metadata": {},
   "outputs": [
    {
     "data": {
      "text/plain": [
       "('The following resources available are',\n",
       " [['King County Library System',\n",
       "   'Computer Basics Training',\n",
       "   '960 Newport Way NW, Issaquah, WA, 98027'],\n",
       "  ['Seattle Public Library',\n",
       "   'Computer Classes',\n",
       "   '8635 Fremont Ave N, Seattle, WA, 98103'],\n",
       "  ['Boys&Girls Clubs of King County',\n",
       "   'After-school Program',\n",
       "   '201 19th Ave, Seattle, WA, 98122']])"
      ]
     },
     "execution_count": 920,
     "metadata": {},
     "output_type": "execute_result"
    }
   ],
   "source": [
    "GetEducation()"
   ]
  },
  {
   "cell_type": "code",
   "execution_count": null,
   "metadata": {
    "collapsed": true
   },
   "outputs": [],
   "source": []
  }
 ],
 "metadata": {
  "anaconda-cloud": {},
  "kernelspec": {
   "display_name": "Python [conda env:py36]",
   "language": "python",
   "name": "conda-env-py36-py"
  },
  "language_info": {
   "codemirror_mode": {
    "name": "ipython",
    "version": 3
   },
   "file_extension": ".py",
   "mimetype": "text/x-python",
   "name": "python",
   "nbconvert_exporter": "python",
   "pygments_lexer": "ipython3",
   "version": "3.6.0"
  }
 },
 "nbformat": 4,
 "nbformat_minor": 1
}
